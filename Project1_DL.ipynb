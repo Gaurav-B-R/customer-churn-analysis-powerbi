{
  "nbformat": 4,
  "nbformat_minor": 0,
  "metadata": {
    "colab": {
      "provenance": []
    },
    "kernelspec": {
      "name": "python3",
      "display_name": "Python 3"
    },
    "language_info": {
      "name": "python"
    }
  },
  "cells": [
    {
      "cell_type": "code",
      "execution_count": 1,
      "metadata": {
        "colab": {
          "base_uri": "https://localhost:8080/"
        },
        "id": "tF1-Lt4J9YnS",
        "outputId": "72f03b94-81ed-44d6-cd03-a8646e8b158f"
      },
      "outputs": [
        {
          "output_type": "stream",
          "name": "stdout",
          "text": [
            "Downloading http://yann.lecun.com/exdb/mnist/train-images-idx3-ubyte.gz\n",
            "Failed to download (trying next):\n",
            "<urlopen error [SSL: CERTIFICATE_VERIFY_FAILED] certificate verify failed: certificate has expired (_ssl.c:1007)>\n",
            "\n",
            "Downloading https://ossci-datasets.s3.amazonaws.com/mnist/train-images-idx3-ubyte.gz\n",
            "Downloading https://ossci-datasets.s3.amazonaws.com/mnist/train-images-idx3-ubyte.gz to ./data/MNIST/raw/train-images-idx3-ubyte.gz\n"
          ]
        },
        {
          "output_type": "stream",
          "name": "stderr",
          "text": [
            "100%|██████████| 9.91M/9.91M [00:00<00:00, 37.3MB/s]\n"
          ]
        },
        {
          "output_type": "stream",
          "name": "stdout",
          "text": [
            "Extracting ./data/MNIST/raw/train-images-idx3-ubyte.gz to ./data/MNIST/raw\n",
            "\n",
            "Downloading http://yann.lecun.com/exdb/mnist/train-labels-idx1-ubyte.gz\n",
            "Failed to download (trying next):\n",
            "<urlopen error [SSL: CERTIFICATE_VERIFY_FAILED] certificate verify failed: certificate has expired (_ssl.c:1007)>\n",
            "\n",
            "Downloading https://ossci-datasets.s3.amazonaws.com/mnist/train-labels-idx1-ubyte.gz\n",
            "Downloading https://ossci-datasets.s3.amazonaws.com/mnist/train-labels-idx1-ubyte.gz to ./data/MNIST/raw/train-labels-idx1-ubyte.gz\n"
          ]
        },
        {
          "output_type": "stream",
          "name": "stderr",
          "text": [
            "100%|██████████| 28.9k/28.9k [00:00<00:00, 1.37MB/s]"
          ]
        },
        {
          "output_type": "stream",
          "name": "stdout",
          "text": [
            "Extracting ./data/MNIST/raw/train-labels-idx1-ubyte.gz to ./data/MNIST/raw\n",
            "\n",
            "Downloading http://yann.lecun.com/exdb/mnist/t10k-images-idx3-ubyte.gz\n"
          ]
        },
        {
          "output_type": "stream",
          "name": "stderr",
          "text": [
            "\n"
          ]
        },
        {
          "output_type": "stream",
          "name": "stdout",
          "text": [
            "Failed to download (trying next):\n",
            "<urlopen error [SSL: CERTIFICATE_VERIFY_FAILED] certificate verify failed: certificate has expired (_ssl.c:1007)>\n",
            "\n",
            "Downloading https://ossci-datasets.s3.amazonaws.com/mnist/t10k-images-idx3-ubyte.gz\n",
            "Downloading https://ossci-datasets.s3.amazonaws.com/mnist/t10k-images-idx3-ubyte.gz to ./data/MNIST/raw/t10k-images-idx3-ubyte.gz\n"
          ]
        },
        {
          "output_type": "stream",
          "name": "stderr",
          "text": [
            "100%|██████████| 1.65M/1.65M [00:00<00:00, 9.47MB/s]\n"
          ]
        },
        {
          "output_type": "stream",
          "name": "stdout",
          "text": [
            "Extracting ./data/MNIST/raw/t10k-images-idx3-ubyte.gz to ./data/MNIST/raw\n",
            "\n",
            "Downloading http://yann.lecun.com/exdb/mnist/t10k-labels-idx1-ubyte.gz\n",
            "Failed to download (trying next):\n",
            "<urlopen error [SSL: CERTIFICATE_VERIFY_FAILED] certificate verify failed: certificate has expired (_ssl.c:1007)>\n",
            "\n",
            "Downloading https://ossci-datasets.s3.amazonaws.com/mnist/t10k-labels-idx1-ubyte.gz\n",
            "Downloading https://ossci-datasets.s3.amazonaws.com/mnist/t10k-labels-idx1-ubyte.gz to ./data/MNIST/raw/t10k-labels-idx1-ubyte.gz\n"
          ]
        },
        {
          "output_type": "stream",
          "name": "stderr",
          "text": [
            "100%|██████████| 4.54k/4.54k [00:00<00:00, 3.10MB/s]\n"
          ]
        },
        {
          "output_type": "stream",
          "name": "stdout",
          "text": [
            "Extracting ./data/MNIST/raw/t10k-labels-idx1-ubyte.gz to ./data/MNIST/raw\n",
            "\n",
            "Epoch [1/10], Loss: 0.3071, Train Accuracy: 0.9175, Test Accuracy: 0.9159\n",
            "Epoch [2/10], Loss: 1.7320, Train Accuracy: 0.9408, Test Accuracy: 0.9352\n",
            "Epoch [3/10], Loss: 0.2352, Train Accuracy: 0.9479, Test Accuracy: 0.9357\n",
            "Epoch [4/10], Loss: 1.1581, Train Accuracy: 0.9480, Test Accuracy: 0.9387\n",
            "Epoch [5/10], Loss: 0.1421, Train Accuracy: 0.9530, Test Accuracy: 0.9440\n",
            "Epoch [6/10], Loss: 0.4246, Train Accuracy: 0.9630, Test Accuracy: 0.9467\n",
            "Epoch [7/10], Loss: 0.2144, Train Accuracy: 0.9687, Test Accuracy: 0.9502\n",
            "Epoch [8/10], Loss: 1.4651, Train Accuracy: 0.9623, Test Accuracy: 0.9465\n",
            "Epoch [9/10], Loss: 0.3099, Train Accuracy: 0.9714, Test Accuracy: 0.9539\n",
            "Epoch [10/10], Loss: 0.0006, Train Accuracy: 0.9704, Test Accuracy: 0.9491\n",
            "Training completed.\n"
          ]
        }
      ],
      "source": [
        "import torch\n",
        "import torch.nn as nn\n",
        "import torch.nn.functional as F\n",
        "import torchvision.transforms as transforms\n",
        "from torchvision.datasets import MNIST, CIFAR10\n",
        "from torch.utils.data import DataLoader\n",
        "import numpy as np\n",
        "\n",
        "# Define the ArcFace Loss function\n",
        "class ArcFaceLoss(nn.Module):\n",
        "    def __init__(self, s=30.0, m=0.50, num_classes=10, embedding_size=128):\n",
        "        super(ArcFaceLoss, self).__init__()\n",
        "        self.s = s  # Scale factor\n",
        "        self.m = m  # Margin\n",
        "        self.num_classes = num_classes\n",
        "        self.embedding_size = embedding_size\n",
        "        self.W = nn.Parameter(torch.randn(embedding_size, num_classes))\n",
        "        nn.init.xavier_uniform_(self.W)\n",
        "\n",
        "    def forward(self, embeddings, labels):\n",
        "        # Normalize embeddings and weights\n",
        "        embeddings = F.normalize(embeddings, dim=1)\n",
        "        W = F.normalize(self.W, dim=0)\n",
        "\n",
        "        # Cosine of angle between embeddings and weights\n",
        "        cos_theta = torch.mm(embeddings, W)\n",
        "        theta = torch.acos(torch.clamp(cos_theta, -1.0 + 1e-7, 1.0 - 1e-7))\n",
        "\n",
        "        # Add the margin to the target angle\n",
        "        target_logit = torch.cos(theta + self.m)\n",
        "\n",
        "        # One-hot encode labels to only apply margin to correct class\n",
        "        one_hot = torch.zeros_like(cos_theta)\n",
        "        one_hot.scatter_(1, labels.view(-1, 1), 1.0)\n",
        "\n",
        "        # Combine the adjusted target logits with original logits\n",
        "        output = one_hot * target_logit + (1.0 - one_hot) * cos_theta\n",
        "        output *= self.s  # Scale the output\n",
        "\n",
        "        # Cross-entropy loss\n",
        "        loss = F.cross_entropy(output, labels)\n",
        "        return loss, output\n",
        "\n",
        "# Sample Network for Embedding\n",
        "class SimpleCNN(nn.Module):\n",
        "    def __init__(self, embedding_size=128):\n",
        "        super(SimpleCNN, self).__init__()\n",
        "        self.conv1 = nn.Conv2d(1, 32, kernel_size=3, stride=1, padding=1)\n",
        "        self.conv2 = nn.Conv2d(32, 64, kernel_size=3, stride=1, padding=1)\n",
        "        self.fc1 = nn.Linear(64 * 7 * 7, embedding_size)\n",
        "\n",
        "    def forward(self, x):\n",
        "        x = F.relu(F.max_pool2d(self.conv1(x), 2))\n",
        "        x = F.relu(F.max_pool2d(self.conv2(x), 2))\n",
        "        x = x.view(x.size(0), -1)\n",
        "        x = self.fc1(x)\n",
        "        return x\n",
        "\n",
        "# Evaluation function to calculate accuracy\n",
        "def evaluate(model, dataloader, arcface_loss):\n",
        "    model.eval()\n",
        "    correct = 0\n",
        "    total = 0\n",
        "    with torch.no_grad():\n",
        "        for images, labels in dataloader:\n",
        "            embeddings = model(images)\n",
        "            _, outputs = arcface_loss(embeddings, labels)\n",
        "            _, predicted = torch.max(outputs, 1)\n",
        "            total += labels.size(0)\n",
        "            correct += (predicted == labels).sum().item()\n",
        "    return correct / total\n",
        "\n",
        "# Load MNIST dataset\n",
        "transform = transforms.Compose([transforms.ToTensor()])\n",
        "train_data = MNIST(root='./data', train=True, download=True, transform=transform)\n",
        "train_loader = DataLoader(train_data, batch_size=64, shuffle=True)\n",
        "test_data = MNIST(root='./data', train=False, download=True, transform=transform)\n",
        "test_loader = DataLoader(test_data, batch_size=64, shuffle=False)\n",
        "\n",
        "# Initialize model, loss, and optimizer\n",
        "embedding_size = 128\n",
        "model = SimpleCNN(embedding_size=embedding_size)\n",
        "arcface_loss = ArcFaceLoss(num_classes=10, embedding_size=embedding_size)\n",
        "optimizer = torch.optim.Adam(list(model.parameters()) + list(arcface_loss.parameters()), lr=0.001)\n",
        "\n",
        "# Training loop with accuracy calculation\n",
        "num_epochs = 10\n",
        "for epoch in range(num_epochs):\n",
        "    model.train()\n",
        "    for images, labels in train_loader:\n",
        "        optimizer.zero_grad()\n",
        "        embeddings = model(images)\n",
        "        loss, _ = arcface_loss(embeddings, labels)\n",
        "        loss.backward()\n",
        "        optimizer.step()\n",
        "\n",
        "    # Calculate train and test accuracy\n",
        "    train_accuracy = evaluate(model, train_loader, arcface_loss)\n",
        "    test_accuracy = evaluate(model, test_loader, arcface_loss)\n",
        "\n",
        "    print(f'Epoch [{epoch+1}/{num_epochs}], Loss: {loss.item():.4f}, Train Accuracy: {train_accuracy:.4f}, Test Accuracy: {test_accuracy:.4f}')\n",
        "\n",
        "print(\"Training completed.\")\n"
      ]
    }
  ]
}